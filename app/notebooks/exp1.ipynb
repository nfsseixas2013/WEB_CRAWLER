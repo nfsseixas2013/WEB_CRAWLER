{
 "cells": [
  {
   "cell_type": "code",
   "execution_count": 1,
   "metadata": {},
   "outputs": [],
   "source": [
    "import requests\n",
    "from bs4 import BeautifulSoup\n",
    "import random"
   ]
  },
  {
   "cell_type": "code",
   "execution_count": 5,
   "metadata": {},
   "outputs": [],
   "source": [
    "def make_requests(url:str) -> dict:\n",
    "    try:\n",
    "        response = requests.get(url)\n",
    "        print(response.status_code)\n",
    "        return {\"response\": response}\n",
    "    except:\n",
    "        print(\"FAILED\")\n",
    "        return {\"response\": None}"
   ]
  },
  {
   "cell_type": "code",
   "execution_count": 15,
   "metadata": {},
   "outputs": [],
   "source": [
    "def get_all_link_page(url) -> None:\n",
    "    response = make_requests(url)\n",
    "    link_to_scrape = []\n",
    "    if response['response'] is not None:\n",
    "        soup = BeautifulSoup(response['response'].content, 'html.parser')\n",
    "        all_links = soup.find_all(\"a\")\n",
    "        random.shuffle(all_links)\n",
    "        for link in all_links:          \n",
    "            link_to_scrape.append(link)\n",
    "\n",
    "    print(link_to_scrape)"
   ]
  },
  {
   "cell_type": "code",
   "execution_count": 58,
   "metadata": {},
   "outputs": [],
   "source": [
    "def get_all_link_page2(url) -> None:\n",
    "    response = make_requests(url)\n",
    "    link_to_scrape = []\n",
    "    if response['response'] is not None:\n",
    "        soup = BeautifulSoup(response['response'].content, 'html.parser')\n",
    "        all_links = soup.find_all(\"a\")\n",
    "        random.shuffle(all_links)\n",
    "        for link in all_links:\n",
    "            if re.search('https://www.ecbahia.com', str(link.get('href'))) is not None:\n",
    "                link_to_scrape.append(link)\n",
    "\n",
    "    return link_to_scrape"
   ]
  },
  {
   "cell_type": "code",
   "execution_count": 19,
   "metadata": {},
   "outputs": [],
   "source": [
    "url = \"https://www.ecbahia.com\""
   ]
  },
  {
   "cell_type": "code",
   "execution_count": 21,
   "metadata": {},
   "outputs": [
    {
     "name": "stdout",
     "output_type": "stream",
     "text": [
      "200\n",
      "[<a class=\"noticia_titulo categoria\" href=\"https://www.ecbahia.com/baiano/com-var-fbf-define-arbitragem-para-a-ida-da-decisao-estadual\">Baiano</a>, <a class=\"noticia_titulo categoria\" href=\"coluna/sob-nova-direcao\">Manuelito Magalhães</a>, <a href=\"tricolor-mundo.php?id=377818\"><img alt=\"\" data-desc=\"EUA - 2011\" data-id=\"377818\" data-img=\"zenphoto/albums/TNM/Luiz Gustavo Ferreira (EUA - 2011)/Luiz_Gustavo_Ferreira_EUA_241111_2.JPG\" data-nome=\"Luiz Gustavo Ferreira \" height=\"74\" src=\"zenphoto/albums/TNM/Luiz Gustavo Ferreira (EUA - 2011)/Luiz_Gustavo_Ferreira_EUA_241111_2.JPG\" width=\"115\"/></a>, <a class=\"noticia_chamada\" href=\"https://www.ecbahia.com/entrevista/presidente-do-sport-diz-que-juba-afirmou-nao-ter-assinado-com-o-bahia\">Presidente do Sport diz que Juba afirmou não ter assinado com o Bahia</a>, <a class=\"noticia_titulo categoria\" href=\"https://www.ecbahia.com/divisoes-de-base/de-virada-bahia-vence-a-primeira-partida-no-baiano-sub-20\">Divisões de Base</a>, <a href=\"esporte_clube_bahia.php\">O clube</a>, <a href=\"https://www.ecbahia.com/baiano/tricolor-encerra-preparacao-para-a-ida-da-final-com-treino-no-ct\">Agora é final</a>, <a href=\"#\">interativo</a>, <a href=\"https://www.ecbahia.com/marketing/bahia-define-data-para-lancar-novos-uniformes-relembre-os-modelos\"><img alt=\"\" height=\"90\" src=\"imgs/fotos/escudobahia22.jpg\" width=\"140\"/></a>, <a class=\"noticia_titulo categoria\" href=\"coluna/o-torcedor-esta-humilhado-e-se-sentindo-subjugado\">Djalma Gomes</a>, <a href=\"../brasileiro\">Brasileiro</a>, <a href=\"divisoes-de-base\">Divisões de Base</a>, <a href=\"tricolor-mundo.php\">Tricolor no Mundo</a>, <a class=\"noticia_titulo\" href=\"https://www.ecbahia.com/marketing/bahia-define-data-para-lancar-novos-uniformes-relembre-os-modelos\">Novos uniformes</a>, <a href=\"noticias-do-bahia\">Últimas Notícias</a>, <a class=\"noticia_chamada\" href=\"https://www.ecbahia.com/de_a_nota.php\">Avalie as atuações do técnico e dos jogadores no jogo contra o CRB</a>, <a class=\"noticia_titulo\" href=\"https://www.ecbahia.com/entrevista/presidente-do-sport-diz-que-juba-afirmou-nao-ter-assinado-com-o-bahia\">Virou novela</a>, <a href=\"campeonato.php?id=10034\">Copa Sul-Americana</a>, <a href=\"politica-de-privacidade-e-cookies\">Política de Privacidade</a>, <a href=\"jogadores-do-bahia\">Elenco</a>, <a href=\"presidentes-do-bahia\">Presidentes</a>, <a href=\"../nordestao\">Nordestão</a>, <a class=\"todas\" href=\"noticias-do-bahia\">todas as notícias &gt;&gt;</a>, <a href=\"lista-enquetes.php\">Enquetes</a>, <a href=\"contratacoes-do-bahia\">Mercado</a>, <a href=\"campeonato.php?id=10042\">Copa do Brasil</a>, <a class=\"noticia_chamada\" href=\"coluna/sob-nova-direcao\">Sob nova Direção</a>, <a class=\"todas\" href=\"../bolao.php\">dê seu palpite »</a>, <a class=\"subchamada\" href=\"https://www.ecbahia.com/baiano/tricolor-encerra-preparacao-para-a-ida-da-final-com-treino-no-ct\">Bahia encara o Jacuipense neste domingo pela ida da decisão; saiba tudo</a>, <a href=\"campeonato.php?id=10041\"><span class=\"noticia_titulo\">COPA DO NORDESTE 2023</span></a>, <a href=\"campeonato.php?id=10040\"><span class=\"noticia_titulo\">CAMPEONATO BAIANO  2023</span></a>, <a class=\"credito\">(Foto: Felipe Oliveira / EC Bahia)</a>, <a href=\"presidentes-do-bahia\">Presidentes</a>, <a class=\"parcial\" href=\"javascript:;\" id=\"next\" onclick=\"javascript:load_results();\">Parcial</a>, <a class=\"bt_a vt_button\" id=\"questions\">Voltar</a>, <a href=\"campeonato.php?id=10041\"><span class=\"noticia_titulo\">COPA DO NORDESTE 2023</span></a>, <a href=\"contratacoes-do-bahia\">Mercado</a>, <a href=\"#\">esporte clube bahia</a>, <a class=\"noticia_titulo categoria\" href=\"https://www.ecbahia.com/baiano/sem-daniel-e-yago-confira-as-opcoes-para-o-meio-campo-do-bahia\">Baiano</a>, <a href=\"campeonato.php?id=10041\">Copa do Nordeste</a>, <a href=\"campeonato.php?id=10041\">Copa do Nordeste</a>, <a href=\"mercado\">Mercado</a>, <a href=\"campeonato.php?id=10038\">Brasileiro</a>, <a class=\"noticia_titulo categoria\" href=\"https://www.ecbahia.com/marketing/bahia-define-data-para-lancar-novos-uniformes-relembre-os-modelos\">Marketing</a>, <a class=\"noticia_chamada\" href=\"https://www.ecbahia.com/entrevista/elenco-ve-aumento-de-confianca-apos-novo-triunfo-em-casa\">Jogadores destacam importância dos triunfos seguidos em casa</a>, <a class=\"twitter\" href=\"http://www.twitter.com/ecbahiapontocom\" target=\"_blank\"><span class=\"noticia_titulo\">Twitter</span><span class=\"noticia_chamada\">Siga o perfil do ecbahia.com</span></a>, <a href=\"bolao.php\">Bolão</a>, <a href=\"marketing\">Marketing</a>, <a href=\"baiano\">Baiano</a>, <a href=\"https://www.ecbahia.com/de_a_nota.php\"><img alt=\"\" height=\"170\" src=\"imgs/fotos/destaque_de_a_nota_3.png\" width=\"300\"/></a>, <a href=\"#\"><i class=\"fa fa-money\"></i>anuncie</a>, <a href=\"tricolor-mundo.php?id=376184\" id=\"link_active_galeria\"><img alt=\"\" class=\"destaque\" data-pos=\"0\" height=\"280\" src=\"zenphoto/albums/TNM/Murilo Neves (Italia - 2012)/Murilo_Neves_Milao_Italia_091012_2.jpg\" width=\"460\"/></a>, <a href=\"galeria-videos.php\">Galeria de Vídeos</a>, <a href=\"https://www.ecbahia.com/mercado/desejado-pelo-bahia-zagueiro-renova-contrato-com-o-fortaleza\"><img alt=\"\" height=\"90\" src=\"imgs/fotos/fectiti1.jpg\" width=\"140\"/></a>, <a href=\"tecnicos-do-bahia\">Técnicos</a>, <a class=\"noticia_titulo categoria\" href=\"coluna/alinhamento-de-expectativas\">Victor Moreno</a>, <a class=\"noticia_titulo categoria\" href=\"coluna/es-de-braga\">Manuelito Magalhães</a>, <a href=\"galeria-videos.php\">Galeria de Vídeos</a>, <a class=\"noticia_chamada\" href=\"coluna/alinhamento-de-expectativas\">Alinhamento de expectativas</a>, <a class=\"noticia_chamada\" href=\"https://www.ecbahia.com/entrevista/mais-confortavel-para-jogar-acevedo-aprova-nova-formacao-do-bahia\">‘Mais confortável para jogar’, Acevedo aprova nova formação do Bahia</a>, <a class=\"noticia_chamada\" href=\"coluna/es-de-braga\">És de Braga?</a>, <a href=\"../sulamericana\">Sulamericana</a>, <a href=\"bolao.php\">Bolão</a>, <a href=\"https://www.ecbahia.com/entrevista/presidente-do-sport-diz-que-juba-afirmou-nao-ter-assinado-com-o-bahia\"><img alt=\"\" height=\"90\" src=\"imgs/fotos/sportjuba1.jpg\" width=\"140\"/></a>, <a href=\"../baiano\">Baiano</a>, <a class=\"bt_a vt_button\" id=\"send\">Votar</a>, <a href=\"https://www.ecbahia.com/entrevista/elenco-ve-aumento-de-confianca-apos-novo-triunfo-em-casa\"><img alt=\"\" height=\"90\" src=\"imgs/fotos/time23-21.jpg\" width=\"140\"/></a>, <a href=\"tricolor-mundo.php?id=377078\"><img alt=\"\" data-desc=\"Italia - 2012\" data-id=\"377078\" data-img=\"zenphoto/albums/TNM/Jesse Cerqueira (Italia - 2012)/Jesse_Cerqueira_Milao_Italia_181212_4.jpg\" data-nome=\"Jesse Cerqueira \" height=\"74\" src=\"zenphoto/albums/TNM/Jesse Cerqueira (Italia - 2012)/Jesse_Cerqueira_Milao_Italia_181212_4.jpg\" width=\"115\"/></a>, <a href=\"../copa-do-brasil\">Copa do Brasil</a>, <a class=\"noticia_chamada\" href=\"https://www.ecbahia.com/brasileiro/sub-20-e-feminino-fazem-rodada-dupla-em-pituacu-neste-sabado\">Sub-20 e Feminino fazem rodada dupla em Pituaçu neste sábado</a>, <a href=\"campeonato.php?id=10042\">Copa do Brasil</a>, <a class=\"rss\" href=\"rss.php\" target=\"_blank\"><span class=\"noticia_titulo\">RSS</span><span class=\"noticia_chamada\">Receba RSS do ecbahia.com</span></a>, <a class=\"noticia_titulo categoria\" href=\"https://www.ecbahia.com/brasileiro/sub-20-e-feminino-fazem-rodada-dupla-em-pituacu-neste-sabado\">Brasileiro</a>, <a class=\"noticia_titulo\" href=\"https://www.ecbahia.com/de_a_nota.php\">Dê a Nota!</a>, <a href=\"https://pt.johnnybet.com/\" target=\"_blank\">JOHNNYBET</a>, <a href=\"#\">esporte clube bahia</a>, <a class=\"todas\" href=\"de_a_nota.php\">clique aqui e participe »</a>, <a href=\"../ultimas-noticias\">Últimas Notícias</a>, <a href=\"../marketing\">Marketing</a>, <a href=\"brasileiro\">Brasileiro</a>, <a href=\"expediente.php\">Expediente</a>, <a class=\"noticia_chamada\" href=\"https://www.ecbahia.com/mercado/desejado-pelo-bahia-zagueiro-renova-contrato-com-o-fortaleza\">Desejado pelo Bahia, zagueiro renova com o Fortaleza</a>, <a href=\"de_a_nota.php\">Dê a Nota</a>, <a href=\"campeonato.php?id=10038\">Brasileiro</a>, <a class=\"noticia_chamada\" href=\"https://www.ecbahia.com/marketing/bahia-define-data-para-lancar-novos-uniformes-relembre-os-modelos\">Bahia define data para anunciar novos mantos de 2023</a>, <a href=\"https://www.aceodds.com/pt/codigos-de-bonus/codigo-bonus-bet365.html\" target=\"_blank\"><img alt=\"\" height=\"100\" src=\"/imgs/banner-codigos-de-bonus-300x100.svg\" width=\"300\"/></a>, <a class=\"noticia_titulo\" href=\"https://www.ecbahia.com/mercado/desejado-pelo-bahia-zagueiro-renova-contrato-com-o-fortaleza\">Não vem</a>, <a class=\"todas\" href=\"campeonato.php?id=10041\">classificação completa »</a>, <a class=\"noticia_titulo categoria\" href=\"https://www.ecbahia.com/baiano/tricolor-encerra-preparacao-para-a-ida-da-final-com-treino-no-ct\">Baiano</a>, <a href=\"tecnicos-do-bahia\">Técnicos</a>, <a class=\"noticia_chamada\" href=\"https://www.ecbahia.com/mercado/desejado-pelo-bahia-zagueiro-renova-contrato-com-o-fortaleza\">Desejado pelo Bahia, zagueiro renova contrato com o Fortaleza</a>, <a class=\"noticia_chamada\" href=\"https://www.ecbahia.com/baiano/com-var-fbf-define-arbitragem-para-a-ida-da-decisao-estadual\">Com VAR, FBF define arbitragem para a ida da decisão estadual</a>, <a class=\"noticia_chamada\" href=\"https://www.ecbahia.com/entrevista/presidente-do-sport-diz-que-juba-afirmou-nao-ter-assinado-com-o-bahia\">Assinou ou não? Saiba as novas informações sobre o 'caso Juba' no Bahia</a>, <a href=\"#\">campeonatos</a>, <a href=\"campeonato.php?id=10040\"><span class=\"noticia_titulo\">CAMPEONATO BAIANO  2023</span></a>, <a href=\"campeonato.php?id=10034\">Copa Sul-Americana</a>, <a href=\"forum.php\">Fórum</a>, <a href=\"galeria-fotos.php\">Galeria de Fotos</a>, <a href=\"tricolor-mundo.php?id=379000\"><img alt=\"\" data-desc=\"Nova Zelandia - 2007\" data-id=\"379000\" data-img=\"zenphoto/albums/TNM/Carlos Durval Veloso (Nova Zelandia - 2007)/carlosveloso2.jpg\" data-nome=\"Carlos Durval Veloso \" height=\"74\" src=\"zenphoto/albums/TNM/Carlos Durval Veloso (Nova Zelandia - 2007)/carlosveloso2.jpg\" width=\"115\"/></a>, <a href=\"jogadores-do-bahia\">Elenco</a>, <a href=\"forum.php\">Fórum</a>, <a href=\"cadastro.php\"><i class=\"fa fa-user-plus\"></i>cadastro</a>, <a class=\"noticia_titulo categoria\" href=\"https://www.ecbahia.com/entrevista/mais-confortavel-para-jogar-acevedo-aprova-nova-formacao-do-bahia\">Entrevista</a>, <a href=\"expediente.php\"><i class=\"fa fa-users\"></i>expediente</a>, <a href=\"contato.php\">Anuncie</a>, <a href=\"lista-colunas.php\">Colunas</a>, <a href=\"contato.php\"><i class=\"fa fa-envelope\"></i>fale conosco</a>, <a class=\"todas\" href=\"lista-colunas.php\">todas as colunas »</a>, <a href=\"#\">notícias</a>, <a href=\"nordestao\">Nordestão</a>, <a class=\"noticia_chamada\" href=\"https://www.ecbahia.com/divisoes-de-base/de-virada-bahia-vence-a-primeira-partida-no-baiano-sub-20\">De virada, Bahia vence a primeira partida no Baiano sub-20</a>, <a href=\"copa-do-brasil\">Copa do Brasil</a>, <a class=\"noticia_chamada\" href=\"https://www.ecbahia.com/marketing/bahia-define-data-para-lancar-novos-uniformes-relembre-os-modelos\">Bahia define data para lançar novos uniformes; relembre os modelos</a>, <a href=\"login.php\"><i class=\"fa fa-lock\"></i>login</a>, <a href=\"galeria-fotos.php\">Galeria de Fotos</a>, <a href=\"esporte_clube_bahia.php\">O clube</a>, <a class=\"noticia_titulo categoria\" href=\"https://www.ecbahia.com/mercado/desejado-pelo-bahia-zagueiro-renova-contrato-com-o-fortaleza\">Mercado</a>, <a href=\"#\">interativo</a>, <a class=\"facebook\" href=\"http://www.facebook.com/ecbahiapontocom\" target=\"_blank\"><span class=\"noticia_titulo\">Facebook</span><span class=\"noticia_chamada\">Curta a fanpage do ecbahia.com</span></a>, <a href=\"sulamericana\">Sulamericana</a>, <a href=\"lista-noticias.php\">notícias</a>, <a href=\"campeonato.php?id=10040\">Campeonato Baiano</a>, <a class=\"noticia_chamada\" href=\"https://www.ecbahia.com/baiano/sem-daniel-e-yago-confira-as-opcoes-para-o-meio-campo-do-bahia\">Sem Daniel e Yago, confira as opções para o meio-campo do Bahia</a>, <a href=\"campeonato.php?id=10040\">Campeonato Baiano</a>, <a class=\"noticia_chamada\" href=\"coluna/o-torcedor-esta-humilhado-e-se-sentindo-subjugado\">O torcedor está humilhado e se sentindo subjugado</a>, <a href=\"../divisoes-de-base\">Divisões de Base</a>, <a href=\"de_a_nota.php\">Dê a Nota</a>, <a href=\"../mercado\">Mercado</a>, <a href=\"#\">campeonatos</a>, <a class=\"noticia_titulo\" href=\"https://www.ecbahia.com/entrevista/elenco-ve-aumento-de-confianca-apos-novo-triunfo-em-casa\">Elenco confiante</a>, <a class=\"noticia_titulo categoria\" href=\"https://www.ecbahia.com/entrevista/presidente-do-sport-diz-que-juba-afirmou-nao-ter-assinado-com-o-bahia\">Entrevista</a>, <a class=\"noticia_chamada\" href=\"https://www.ecbahia.com/baiano/tricolor-encerra-preparacao-para-a-ida-da-final-com-treino-no-ct\">Tricolor encerra preparação para a ida da final com treino no CT</a>, <a href=\"/\"><img alt=\"\" height=\"81\" src=\"/imgs/logo_topo.png\" width=\"181\"/></a>, <a href=\"lista-colunas.php\">Colunas</a>, <a href=\"tricolor-mundo.php?id=379667\"><img alt=\"\" data-desc=\"Republica Dominicana - 2012\" data-id=\"379667\" data-img=\"zenphoto/albums/TNM/Vitor Barreto (Republica Dominicana - 2012)/Vitor_Barreto_PuntaCana_Caribe_011112_1.jpg\" data-nome=\"Vitor Barreto \" height=\"74\" src=\"zenphoto/albums/TNM/Vitor Barreto (Republica Dominicana - 2012)/Vitor_Barreto_PuntaCana_Caribe_011112_1.jpg\" width=\"115\"/></a>]\n"
     ]
    }
   ],
   "source": [
    "get_all_link_page(url)"
   ]
  },
  {
   "cell_type": "code",
   "execution_count": 26,
   "metadata": {},
   "outputs": [
    {
     "name": "stdout",
     "output_type": "stream",
     "text": [
      "200\n",
      "[<a class=\"noticia_titulo categoria\" href=\"coluna/es-de-braga\">Manuelito Magalhães</a>, <a class=\"noticia_titulo categoria\" href=\"https://www.ecbahia.com/baiano/sem-daniel-e-yago-confira-as-opcoes-para-o-meio-campo-do-bahia\">Baiano</a>, <a href=\"contato.php\">Anuncie</a>, <a href=\"divisoes-de-base\">Divisões de Base</a>, <a class=\"twitter\" href=\"http://www.twitter.com/ecbahiapontocom\" target=\"_blank\"><span class=\"noticia_titulo\">Twitter</span><span class=\"noticia_chamada\">Siga o perfil do ecbahia.com</span></a>, <a href=\"forum.php\">Fórum</a>, <a class=\"noticia_titulo\" href=\"https://www.ecbahia.com/entrevista/elenco-ve-aumento-de-confianca-apos-novo-triunfo-em-casa\">Elenco confiante</a>, <a href=\"../divisoes-de-base\">Divisões de Base</a>, <a class=\"noticia_titulo categoria\" href=\"https://www.ecbahia.com/entrevista/presidente-do-sport-diz-que-juba-afirmou-nao-ter-assinado-com-o-bahia\">Entrevista</a>, <a class=\"noticia_titulo categoria\" href=\"https://www.ecbahia.com/marketing/bahia-define-data-para-lancar-novos-uniformes-relembre-os-modelos\">Marketing</a>, <a class=\"noticia_chamada\" href=\"https://www.ecbahia.com/brasileiro/sub-20-e-feminino-fazem-rodada-dupla-em-pituacu-neste-sabado\">Sub-20 e Feminino fazem rodada dupla em Pituaçu neste sábado</a>, <a class=\"noticia_titulo categoria\" href=\"https://www.ecbahia.com/divisoes-de-base/de-virada-bahia-vence-a-primeira-partida-no-baiano-sub-20\">Divisões de Base</a>, <a href=\"../copa-do-brasil\">Copa do Brasil</a>, <a href=\"../mercado\">Mercado</a>, <a href=\"https://www.ecbahia.com/entrevista/presidente-do-sport-diz-que-juba-afirmou-nao-ter-assinado-com-o-bahia\"><img alt=\"\" height=\"90\" src=\"imgs/fotos/sportjuba1.jpg\" width=\"140\"/></a>, <a class=\"noticia_chamada\" href=\"https://www.ecbahia.com/baiano/sem-daniel-e-yago-confira-as-opcoes-para-o-meio-campo-do-bahia\">Sem Daniel e Yago, confira as opções para o meio-campo do Bahia</a>, <a class=\"noticia_chamada\" href=\"https://www.ecbahia.com/entrevista/elenco-ve-aumento-de-confianca-apos-novo-triunfo-em-casa\">Jogadores destacam importância dos triunfos seguidos em casa</a>, <a class=\"noticia_chamada\" href=\"https://www.ecbahia.com/de_a_nota.php\">Avalie as atuações do técnico e dos jogadores no jogo contra o CRB</a>, <a class=\"noticia_titulo categoria\" href=\"coluna/sob-nova-direcao\">Manuelito Magalhães</a>, <a href=\"campeonato.php?id=10041\">Copa do Nordeste</a>, <a href=\"https://pt.johnnybet.com/\" target=\"_blank\">JOHNNYBET</a>, <a class=\"noticia_chamada\" href=\"coluna/es-de-braga\">És de Braga?</a>, <a href=\"login.php\"><i class=\"fa fa-lock\"></i>login</a>, <a href=\"campeonato.php?id=10038\">Brasileiro</a>, <a href=\"../brasileiro\">Brasileiro</a>, <a href=\"campeonato.php?id=10040\">Campeonato Baiano</a>, <a href=\"#\">interativo</a>, <a href=\"marketing\">Marketing</a>, <a href=\"#\">esporte clube bahia</a>, <a href=\"nordestao\">Nordestão</a>, <a class=\"credito\">(Foto: Felipe Oliveira / EC Bahia)</a>, <a class=\"noticia_chamada\" href=\"https://www.ecbahia.com/marketing/bahia-define-data-para-lancar-novos-uniformes-relembre-os-modelos\">Bahia define data para anunciar novos mantos de 2023</a>, <a href=\"politica-de-privacidade-e-cookies\">Política de Privacidade</a>, <a href=\"https://www.aceodds.com/pt/codigos-de-bonus/codigo-bonus-bet365.html\" target=\"_blank\"><img alt=\"\" height=\"100\" src=\"/imgs/banner-codigos-de-bonus-300x100.svg\" width=\"300\"/></a>, <a class=\"noticia_titulo categoria\" href=\"https://www.ecbahia.com/mercado/desejado-pelo-bahia-zagueiro-renova-contrato-com-o-fortaleza\">Mercado</a>, <a href=\"tricolor-mundo.php\">Tricolor no Mundo</a>, <a href=\"forum.php\">Fórum</a>, <a class=\"noticia_titulo\" href=\"https://www.ecbahia.com/de_a_nota.php\">Dê a Nota!</a>, <a href=\"campeonato.php?id=10034\">Copa Sul-Americana</a>, <a href=\"campeonato.php?id=10042\">Copa do Brasil</a>, <a href=\"bolao.php\">Bolão</a>, <a href=\"tricolor-mundo.php?id=376882\"><img alt=\"\" data-desc=\"EUA - 2011\" data-id=\"376882\" data-img=\"zenphoto/albums/TNM/Murilo Berbert (EUA - 2011)/Murilo_Berbert_Miami_EUA_01012011_1.JPG\" data-nome=\"Murilo Berbert \" height=\"74\" src=\"zenphoto/albums/TNM/Murilo Berbert (EUA - 2011)/Murilo_Berbert_Miami_EUA_01012011_1.JPG\" width=\"115\"/></a>, <a href=\"galeria-fotos.php\">Galeria de Fotos</a>, <a href=\"contratacoes-do-bahia\">Mercado</a>, <a href=\"../nordestao\">Nordestão</a>, <a href=\"copa-do-brasil\">Copa do Brasil</a>, <a href=\"campeonato.php?id=10041\"><span class=\"noticia_titulo\">COPA DO NORDESTE 2023</span></a>, <a class=\"noticia_titulo categoria\" href=\"coluna/o-torcedor-esta-humilhado-e-se-sentindo-subjugado\">Djalma Gomes</a>, <a class=\"noticia_titulo categoria\" href=\"https://www.ecbahia.com/baiano/com-var-fbf-define-arbitragem-para-a-ida-da-decisao-estadual\">Baiano</a>, <a href=\"https://www.ecbahia.com/mercado/desejado-pelo-bahia-zagueiro-renova-contrato-com-o-fortaleza\"><img alt=\"\" height=\"90\" src=\"imgs/fotos/fectiti1.jpg\" width=\"140\"/></a>, <a href=\"lista-colunas.php\">Colunas</a>, <a class=\"noticia_titulo categoria\" href=\"coluna/alinhamento-de-expectativas\">Victor Moreno</a>, <a class=\"facebook\" href=\"http://www.facebook.com/ecbahiapontocom\" target=\"_blank\"><span class=\"noticia_titulo\">Facebook</span><span class=\"noticia_chamada\">Curta a fanpage do ecbahia.com</span></a>, <a href=\"#\">campeonatos</a>, <a href=\"tricolor-mundo.php?id=375921\" id=\"link_active_galeria\"><img alt=\"\" class=\"destaque\" data-pos=\"0\" height=\"280\" src=\"zenphoto/albums/TNM/Arnaldo Bahia (EUA - 2009)/arnaldobahia3.jpg\" width=\"460\"/></a>, <a class=\"todas\" href=\"de_a_nota.php\">clique aqui e participe »</a>, <a href=\"sulamericana\">Sulamericana</a>, <a href=\"../ultimas-noticias\">Últimas Notícias</a>, <a href=\"noticias-do-bahia\">Últimas Notícias</a>, <a href=\"https://www.ecbahia.com/de_a_nota.php\"><img alt=\"\" height=\"170\" src=\"imgs/fotos/destaque_de_a_nota_3.png\" width=\"300\"/></a>, <a href=\"campeonato.php?id=10041\">Copa do Nordeste</a>, <a href=\"https://www.ecbahia.com/entrevista/elenco-ve-aumento-de-confianca-apos-novo-triunfo-em-casa\"><img alt=\"\" height=\"90\" src=\"imgs/fotos/time23-21.jpg\" width=\"140\"/></a>, <a class=\"todas\" href=\"noticias-do-bahia\">todas as notícias &gt;&gt;</a>, <a href=\"../baiano\">Baiano</a>, <a class=\"noticia_chamada\" href=\"coluna/o-torcedor-esta-humilhado-e-se-sentindo-subjugado\">O torcedor está humilhado e se sentindo subjugado</a>, <a href=\"../sulamericana\">Sulamericana</a>, <a class=\"subchamada\" href=\"https://www.ecbahia.com/baiano/tricolor-encerra-preparacao-para-a-ida-da-final-com-treino-no-ct\">Bahia encara o Jacuipense neste domingo pela ida da decisão; saiba tudo</a>, <a class=\"bt_a vt_button\" id=\"questions\">Voltar</a>, <a href=\"esporte_clube_bahia.php\">O clube</a>, <a href=\"/\"><img alt=\"\" height=\"81\" src=\"/imgs/logo_topo.png\" width=\"181\"/></a>, <a href=\"galeria-videos.php\">Galeria de Vídeos</a>, <a href=\"bolao.php\">Bolão</a>, <a class=\"noticia_chamada\" href=\"https://www.ecbahia.com/divisoes-de-base/de-virada-bahia-vence-a-primeira-partida-no-baiano-sub-20\">De virada, Bahia vence a primeira partida no Baiano sub-20</a>, <a class=\"noticia_chamada\" href=\"https://www.ecbahia.com/entrevista/mais-confortavel-para-jogar-acevedo-aprova-nova-formacao-do-bahia\">‘Mais confortável para jogar’, Acevedo aprova nova formação do Bahia</a>, <a href=\"tecnicos-do-bahia\">Técnicos</a>, <a href=\"jogadores-do-bahia\">Elenco</a>, <a href=\"lista-noticias.php\">notícias</a>, <a href=\"baiano\">Baiano</a>, <a class=\"noticia_titulo categoria\" href=\"https://www.ecbahia.com/brasileiro/sub-20-e-feminino-fazem-rodada-dupla-em-pituacu-neste-sabado\">Brasileiro</a>, <a class=\"rss\" href=\"rss.php\" target=\"_blank\"><span class=\"noticia_titulo\">RSS</span><span class=\"noticia_chamada\">Receba RSS do ecbahia.com</span></a>, <a href=\"campeonato.php?id=10040\">Campeonato Baiano</a>, <a class=\"bt_a vt_button\" id=\"send\">Votar</a>, <a href=\"#\">esporte clube bahia</a>, <a class=\"noticia_chamada\" href=\"https://www.ecbahia.com/entrevista/presidente-do-sport-diz-que-juba-afirmou-nao-ter-assinado-com-o-bahia\">Assinou ou não? Saiba as novas informações sobre o 'caso Juba' no Bahia</a>, <a href=\"de_a_nota.php\">Dê a Nota</a>, <a class=\"noticia_titulo\" href=\"https://www.ecbahia.com/entrevista/presidente-do-sport-diz-que-juba-afirmou-nao-ter-assinado-com-o-bahia\">Virou novela</a>, <a href=\"galeria-videos.php\">Galeria de Vídeos</a>, <a class=\"noticia_chamada\" href=\"coluna/alinhamento-de-expectativas\">Alinhamento de expectativas</a>, <a class=\"noticia_titulo categoria\" href=\"https://www.ecbahia.com/baiano/tricolor-encerra-preparacao-para-a-ida-da-final-com-treino-no-ct\">Baiano</a>, <a href=\"campeonato.php?id=10042\">Copa do Brasil</a>, <a href=\"esporte_clube_bahia.php\">O clube</a>, <a href=\"lista-enquetes.php\">Enquetes</a>, <a class=\"parcial\" href=\"javascript:;\" id=\"next\" onclick=\"javascript:load_results();\">Parcial</a>, <a href=\"brasileiro\">Brasileiro</a>, <a class=\"noticia_chamada\" href=\"https://www.ecbahia.com/entrevista/presidente-do-sport-diz-que-juba-afirmou-nao-ter-assinado-com-o-bahia\">Presidente do Sport diz que Juba afirmou não ter assinado com o Bahia</a>, <a href=\"mercado\">Mercado</a>, <a href=\"presidentes-do-bahia\">Presidentes</a>, <a href=\"contratacoes-do-bahia\">Mercado</a>, <a href=\"tecnicos-do-bahia\">Técnicos</a>, <a href=\"lista-colunas.php\">Colunas</a>, <a href=\"contato.php\"><i class=\"fa fa-envelope\"></i>fale conosco</a>, <a href=\"tricolor-mundo.php?id=376159\"><img alt=\"\" data-desc=\"Angola - 2010\" data-id=\"376159\" data-img=\"zenphoto/albums/TNM/Marcio Antonio Abreu (Angola - 2010)/Marcio_Antonio_Luena_Angola_060710_7.jpg\" data-nome=\"Marcio Antonio Abreu \" height=\"74\" src=\"zenphoto/albums/TNM/Marcio Antonio Abreu (Angola - 2010)/Marcio_Antonio_Luena_Angola_060710_7.jpg\" width=\"115\"/></a>, <a href=\"campeonato.php?id=10034\">Copa Sul-Americana</a>, <a class=\"todas\" href=\"../bolao.php\">dê seu palpite »</a>, <a class=\"noticia_chamada\" href=\"https://www.ecbahia.com/marketing/bahia-define-data-para-lancar-novos-uniformes-relembre-os-modelos\">Bahia define data para lançar novos uniformes; relembre os modelos</a>, <a class=\"noticia_chamada\" href=\"https://www.ecbahia.com/baiano/com-var-fbf-define-arbitragem-para-a-ida-da-decisao-estadual\">Com VAR, FBF define arbitragem para a ida da decisão estadual</a>, <a href=\"expediente.php\"><i class=\"fa fa-users\"></i>expediente</a>, <a class=\"noticia_chamada\" href=\"coluna/sob-nova-direcao\">Sob nova Direção</a>, <a href=\"campeonato.php?id=10040\"><span class=\"noticia_titulo\">CAMPEONATO BAIANO  2023</span></a>, <a href=\"campeonato.php?id=10041\"><span class=\"noticia_titulo\">COPA DO NORDESTE 2023</span></a>, <a href=\"tricolor-mundo.php?id=378217\"><img alt=\"\" data-desc=\"Espanha - 2006\" data-id=\"378217\" data-img=\"zenphoto/albums/TNM/Marcelo Amaral (Espanha - 2006)/marceloamaral4.jpg\" data-nome=\"Marcelo Amaral \" height=\"74\" src=\"zenphoto/albums/TNM/Marcelo Amaral (Espanha - 2006)/marceloamaral4.jpg\" width=\"115\"/></a>, <a class=\"noticia_chamada\" href=\"https://www.ecbahia.com/mercado/desejado-pelo-bahia-zagueiro-renova-contrato-com-o-fortaleza\">Desejado pelo Bahia, zagueiro renova com o Fortaleza</a>, <a href=\"galeria-fotos.php\">Galeria de Fotos</a>, <a href=\"#\">notícias</a>, <a href=\"expediente.php\">Expediente</a>, <a href=\"https://www.ecbahia.com/marketing/bahia-define-data-para-lancar-novos-uniformes-relembre-os-modelos\"><img alt=\"\" height=\"90\" src=\"imgs/fotos/escudobahia22.jpg\" width=\"140\"/></a>, <a href=\"cadastro.php\"><i class=\"fa fa-user-plus\"></i>cadastro</a>, <a href=\"campeonato.php?id=10038\">Brasileiro</a>, <a class=\"todas\" href=\"lista-colunas.php\">todas as colunas »</a>, <a href=\"tricolor-mundo.php?id=377894\"><img alt=\"\" data-desc=\"Austria - 2012\" data-id=\"377894\" data-img=\"zenphoto/albums/TNM/Guilherme Mendonca Junior (Austria - 2012)/Guilherme_Mendonca_Graz_Austria_130312_3.JPG\" data-nome=\"Guilherme Mendonca Junior \" height=\"74\" src=\"zenphoto/albums/TNM/Guilherme Mendonca Junior (Austria - 2012)/Guilherme_Mendonca_Graz_Austria_130312_3.JPG\" width=\"115\"/></a>, <a href=\"#\">campeonatos</a>, <a href=\"campeonato.php?id=10040\"><span class=\"noticia_titulo\">CAMPEONATO BAIANO  2023</span></a>, <a class=\"todas\" href=\"campeonato.php?id=10041\">classificação completa »</a>, <a href=\"presidentes-do-bahia\">Presidentes</a>, <a class=\"noticia_titulo\" href=\"https://www.ecbahia.com/marketing/bahia-define-data-para-lancar-novos-uniformes-relembre-os-modelos\">Novos uniformes</a>, <a class=\"noticia_titulo\" href=\"https://www.ecbahia.com/mercado/desejado-pelo-bahia-zagueiro-renova-contrato-com-o-fortaleza\">Não vem</a>, <a href=\"#\">interativo</a>, <a href=\"https://www.ecbahia.com/baiano/tricolor-encerra-preparacao-para-a-ida-da-final-com-treino-no-ct\">Agora é final</a>, <a class=\"noticia_chamada\" href=\"https://www.ecbahia.com/mercado/desejado-pelo-bahia-zagueiro-renova-contrato-com-o-fortaleza\">Desejado pelo Bahia, zagueiro renova contrato com o Fortaleza</a>, <a class=\"noticia_titulo categoria\" href=\"https://www.ecbahia.com/entrevista/mais-confortavel-para-jogar-acevedo-aprova-nova-formacao-do-bahia\">Entrevista</a>, <a href=\"de_a_nota.php\">Dê a Nota</a>, <a href=\"#\"><i class=\"fa fa-money\"></i>anuncie</a>, <a href=\"jogadores-do-bahia\">Elenco</a>, <a href=\"../marketing\">Marketing</a>, <a class=\"noticia_chamada\" href=\"https://www.ecbahia.com/baiano/tricolor-encerra-preparacao-para-a-ida-da-final-com-treino-no-ct\">Tricolor encerra preparação para a ida da final com treino no CT</a>]\n"
     ]
    }
   ],
   "source": [
    "get_all_link_page2(url)"
   ]
  },
  {
   "cell_type": "code",
   "execution_count": 59,
   "metadata": {},
   "outputs": [
    {
     "name": "stdout",
     "output_type": "stream",
     "text": [
      "200\n"
     ]
    }
   ],
   "source": [
    "lista = get_all_link_page2(url)"
   ]
  },
  {
   "cell_type": "code",
   "execution_count": 60,
   "metadata": {},
   "outputs": [
    {
     "data": {
      "text/plain": [
       "[<a class=\"noticia_chamada\" href=\"https://www.ecbahia.com/brasileiro/sub-20-e-feminino-fazem-rodada-dupla-em-pituacu-neste-sabado\">Sub-20 e Feminino fazem rodada dupla em Pituaçu neste sábado</a>,\n",
       " <a class=\"noticia_chamada\" href=\"https://www.ecbahia.com/divisoes-de-base/de-virada-bahia-vence-a-primeira-partida-no-baiano-sub-20\">De virada, Bahia vence a primeira partida no Baiano sub-20</a>,\n",
       " <a class=\"noticia_titulo\" href=\"https://www.ecbahia.com/entrevista/elenco-ve-aumento-de-confianca-apos-novo-triunfo-em-casa\">Elenco confiante</a>,\n",
       " <a class=\"noticia_chamada\" href=\"https://www.ecbahia.com/entrevista/mais-confortavel-para-jogar-acevedo-aprova-nova-formacao-do-bahia\">‘Mais confortável para jogar’, Acevedo aprova nova formação do Bahia</a>,\n",
       " <a class=\"noticia_chamada\" href=\"https://www.ecbahia.com/mercado/desejado-pelo-bahia-zagueiro-renova-contrato-com-o-fortaleza\">Desejado pelo Bahia, zagueiro renova com o Fortaleza</a>,\n",
       " <a class=\"noticia_chamada\" href=\"https://www.ecbahia.com/marketing/bahia-define-data-para-lancar-novos-uniformes-relembre-os-modelos\">Bahia define data para lançar novos uniformes; relembre os modelos</a>,\n",
       " <a href=\"https://www.ecbahia.com/entrevista/elenco-ve-aumento-de-confianca-apos-novo-triunfo-em-casa\"><img alt=\"\" height=\"90\" src=\"imgs/fotos/time23-21.jpg\" width=\"140\"/></a>,\n",
       " <a class=\"noticia_chamada\" href=\"https://www.ecbahia.com/baiano/tricolor-encerra-preparacao-para-a-ida-da-final-com-treino-no-ct\">Tricolor encerra preparação para a ida da final com treino no CT</a>,\n",
       " <a class=\"noticia_chamada\" href=\"https://www.ecbahia.com/marketing/bahia-define-data-para-lancar-novos-uniformes-relembre-os-modelos\">Bahia define data para anunciar novos mantos de 2023</a>,\n",
       " <a class=\"noticia_chamada\" href=\"https://www.ecbahia.com/mercado/desejado-pelo-bahia-zagueiro-renova-contrato-com-o-fortaleza\">Desejado pelo Bahia, zagueiro renova contrato com o Fortaleza</a>,\n",
       " <a href=\"https://www.ecbahia.com/baiano/tricolor-encerra-preparacao-para-a-ida-da-final-com-treino-no-ct\">Agora é final</a>,\n",
       " <a class=\"noticia_titulo categoria\" href=\"https://www.ecbahia.com/marketing/bahia-define-data-para-lancar-novos-uniformes-relembre-os-modelos\">Marketing</a>,\n",
       " <a class=\"noticia_titulo\" href=\"https://www.ecbahia.com/marketing/bahia-define-data-para-lancar-novos-uniformes-relembre-os-modelos\">Novos uniformes</a>,\n",
       " <a href=\"https://www.ecbahia.com/mercado/desejado-pelo-bahia-zagueiro-renova-contrato-com-o-fortaleza\"><img alt=\"\" height=\"90\" src=\"imgs/fotos/fectiti1.jpg\" width=\"140\"/></a>,\n",
       " <a class=\"noticia_titulo categoria\" href=\"https://www.ecbahia.com/brasileiro/sub-20-e-feminino-fazem-rodada-dupla-em-pituacu-neste-sabado\">Brasileiro</a>,\n",
       " <a class=\"noticia_titulo\" href=\"https://www.ecbahia.com/de_a_nota.php\">Dê a Nota!</a>,\n",
       " <a href=\"https://www.ecbahia.com/marketing/bahia-define-data-para-lancar-novos-uniformes-relembre-os-modelos\"><img alt=\"\" height=\"90\" src=\"imgs/fotos/escudobahia22.jpg\" width=\"140\"/></a>,\n",
       " <a class=\"noticia_titulo categoria\" href=\"https://www.ecbahia.com/divisoes-de-base/de-virada-bahia-vence-a-primeira-partida-no-baiano-sub-20\">Divisões de Base</a>,\n",
       " <a class=\"noticia_titulo categoria\" href=\"https://www.ecbahia.com/baiano/sem-daniel-e-yago-confira-as-opcoes-para-o-meio-campo-do-bahia\">Baiano</a>,\n",
       " <a class=\"noticia_chamada\" href=\"https://www.ecbahia.com/entrevista/presidente-do-sport-diz-que-juba-afirmou-nao-ter-assinado-com-o-bahia\">Presidente do Sport diz que Juba afirmou não ter assinado com o Bahia</a>,\n",
       " <a class=\"noticia_titulo\" href=\"https://www.ecbahia.com/mercado/desejado-pelo-bahia-zagueiro-renova-contrato-com-o-fortaleza\">Não vem</a>,\n",
       " <a class=\"noticia_chamada\" href=\"https://www.ecbahia.com/baiano/com-var-fbf-define-arbitragem-para-a-ida-da-decisao-estadual\">Com VAR, FBF define arbitragem para a ida da decisão estadual</a>,\n",
       " <a href=\"https://www.ecbahia.com/entrevista/presidente-do-sport-diz-que-juba-afirmou-nao-ter-assinado-com-o-bahia\"><img alt=\"\" height=\"90\" src=\"imgs/fotos/sportjuba1.jpg\" width=\"140\"/></a>,\n",
       " <a class=\"subchamada\" href=\"https://www.ecbahia.com/baiano/tricolor-encerra-preparacao-para-a-ida-da-final-com-treino-no-ct\">Bahia encara o Jacuipense neste domingo pela ida da decisão; saiba tudo</a>,\n",
       " <a href=\"https://www.ecbahia.com/de_a_nota.php\"><img alt=\"\" height=\"170\" src=\"imgs/fotos/destaque_de_a_nota_3.png\" width=\"300\"/></a>,\n",
       " <a class=\"noticia_titulo categoria\" href=\"https://www.ecbahia.com/baiano/tricolor-encerra-preparacao-para-a-ida-da-final-com-treino-no-ct\">Baiano</a>,\n",
       " <a class=\"noticia_chamada\" href=\"https://www.ecbahia.com/baiano/sem-daniel-e-yago-confira-as-opcoes-para-o-meio-campo-do-bahia\">Sem Daniel e Yago, confira as opções para o meio-campo do Bahia</a>,\n",
       " <a class=\"noticia_chamada\" href=\"https://www.ecbahia.com/de_a_nota.php\">Avalie as atuações do técnico e dos jogadores no jogo contra o CRB</a>,\n",
       " <a class=\"noticia_chamada\" href=\"https://www.ecbahia.com/entrevista/presidente-do-sport-diz-que-juba-afirmou-nao-ter-assinado-com-o-bahia\">Assinou ou não? Saiba as novas informações sobre o 'caso Juba' no Bahia</a>,\n",
       " <a class=\"noticia_titulo categoria\" href=\"https://www.ecbahia.com/mercado/desejado-pelo-bahia-zagueiro-renova-contrato-com-o-fortaleza\">Mercado</a>,\n",
       " <a class=\"noticia_titulo\" href=\"https://www.ecbahia.com/entrevista/presidente-do-sport-diz-que-juba-afirmou-nao-ter-assinado-com-o-bahia\">Virou novela</a>,\n",
       " <a class=\"noticia_titulo categoria\" href=\"https://www.ecbahia.com/entrevista/mais-confortavel-para-jogar-acevedo-aprova-nova-formacao-do-bahia\">Entrevista</a>,\n",
       " <a class=\"noticia_titulo categoria\" href=\"https://www.ecbahia.com/entrevista/presidente-do-sport-diz-que-juba-afirmou-nao-ter-assinado-com-o-bahia\">Entrevista</a>,\n",
       " <a class=\"noticia_chamada\" href=\"https://www.ecbahia.com/entrevista/elenco-ve-aumento-de-confianca-apos-novo-triunfo-em-casa\">Jogadores destacam importância dos triunfos seguidos em casa</a>,\n",
       " <a class=\"noticia_titulo categoria\" href=\"https://www.ecbahia.com/baiano/com-var-fbf-define-arbitragem-para-a-ida-da-decisao-estadual\">Baiano</a>]"
      ]
     },
     "execution_count": 60,
     "metadata": {},
     "output_type": "execute_result"
    }
   ],
   "source": [
    "lista"
   ]
  },
  {
   "cell_type": "code",
   "execution_count": 43,
   "metadata": {},
   "outputs": [
    {
     "data": {
      "text/plain": [
       "<a class=\"noticia_titulo categoria\" href=\"https://www.ecbahia.com/mercado/desejado-pelo-bahia-zagueiro-renova-contrato-com-o-fortaleza\">Mercado</a>"
      ]
     },
     "execution_count": 43,
     "metadata": {},
     "output_type": "execute_result"
    }
   ],
   "source": [
    "lista[1]"
   ]
  },
  {
   "cell_type": "code",
   "execution_count": 44,
   "metadata": {},
   "outputs": [
    {
     "data": {
      "text/plain": [
       "bs4.element.Tag"
      ]
     },
     "execution_count": 44,
     "metadata": {},
     "output_type": "execute_result"
    }
   ],
   "source": [
    "type(lista[1])"
   ]
  },
  {
   "cell_type": "code",
   "execution_count": 45,
   "metadata": {},
   "outputs": [
    {
     "data": {
      "text/plain": [
       "'https://www.ecbahia.com/mercado/desejado-pelo-bahia-zagueiro-renova-contrato-com-o-fortaleza'"
      ]
     },
     "execution_count": 45,
     "metadata": {},
     "output_type": "execute_result"
    }
   ],
   "source": [
    "lista[1].get('href')"
   ]
  },
  {
   "cell_type": "code",
   "execution_count": 46,
   "metadata": {},
   "outputs": [
    {
     "data": {
      "text/plain": [
       "str"
      ]
     },
     "execution_count": 46,
     "metadata": {},
     "output_type": "execute_result"
    }
   ],
   "source": [
    "type(lista[1].get('href'))"
   ]
  },
  {
   "cell_type": "code",
   "execution_count": 47,
   "metadata": {},
   "outputs": [],
   "source": [
    "import re"
   ]
  },
  {
   "cell_type": "code",
   "execution_count": 52,
   "metadata": {},
   "outputs": [
    {
     "name": "stdout",
     "output_type": "stream",
     "text": [
      "<re.Match object; span=(8, 23), match='www.ecbahia.com'>\n"
     ]
    }
   ],
   "source": [
    "print(re.search('www.ecbahia.com',lista[1].get('href')))"
   ]
  },
  {
   "cell_type": "code",
   "execution_count": null,
   "metadata": {},
   "outputs": [],
   "source": []
  }
 ],
 "metadata": {
  "kernelspec": {
   "display_name": "Python 3",
   "language": "python",
   "name": "python3"
  },
  "language_info": {
   "codemirror_mode": {
    "name": "ipython",
    "version": 3
   },
   "file_extension": ".py",
   "mimetype": "text/x-python",
   "name": "python",
   "nbconvert_exporter": "python",
   "pygments_lexer": "ipython3",
   "version": "3.7.4"
  }
 },
 "nbformat": 4,
 "nbformat_minor": 2
}
